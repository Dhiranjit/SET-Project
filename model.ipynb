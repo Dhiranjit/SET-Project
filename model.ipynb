{
 "cells": [
  {
   "cell_type": "markdown",
   "id": "cae75598",
   "metadata": {},
   "source": [
    "## 1. Import Required Libraries"
   ]
  },
  {
   "cell_type": "code",
   "execution_count": 1,
   "id": "c350891a",
   "metadata": {},
   "outputs": [
    {
     "name": "stdout",
     "output_type": "stream",
     "text": [
      "Using device: cuda\n"
     ]
    }
   ],
   "source": [
    "import numpy as np\n",
    "import pandas as pd\n",
    "import matplotlib.pyplot as plt\n",
    "import seaborn as sns\n",
    "from sklearn.preprocessing import StandardScaler\n",
    "from sklearn.model_selection import train_test_split\n",
    "from sklearn.metrics import accuracy_score, precision_score, recall_score, f1_score, classification_report, confusion_matrix\n",
    "\n",
    "import torch\n",
    "import torch.nn as nn\n",
    "import torch.optim as optim\n",
    "from torch.utils.data import Dataset, DataLoader\n",
    "import warnings\n",
    "warnings.filterwarnings('ignore')\n",
    "\n",
    "# Set random seeds for reproducibility\n",
    "np.random.seed(42)\n",
    "torch.manual_seed(42)\n",
    "\n",
    "# Check if CUDA is available\n",
    "device = torch.device('cuda' if torch.cuda.is_available() else 'cpu')\n",
    "print(f\"Using device: {device}\")"
   ]
  },
  {
   "cell_type": "markdown",
   "id": "ce4f85c6",
   "metadata": {},
   "source": [
    "## 2. Load and Explore Data"
   ]
  },
  {
   "cell_type": "code",
   "execution_count": 3,
   "id": "849b7d71",
   "metadata": {},
   "outputs": [
    {
     "name": "stdout",
     "output_type": "stream",
     "text": [
      "Data shape: (1481, 23)\n",
      "\n",
      "First few rows:\n",
      "                 Close        High         Low        Open   Volume  \\\n",
      "Date                                                                  \n",
      "2018-01-01  168.066772  171.412230  167.555449  171.363531  5353190   \n",
      "2018-01-02  167.969360  169.435134  166.542552  169.435134  5762080   \n",
      "2018-01-03  167.058746  169.303670  166.639962  168.198246  4161360   \n",
      "2018-01-04  170.827866  171.241790  166.932133  168.003465  7301470   \n",
      "2018-01-05  176.720169  177.353235  171.324586  171.996602  9843270   \n",
      "\n",
      "            day_of_week  month  day_of_week_sin  day_of_week_cos  month_sin  \\\n",
      "Date                                                                          \n",
      "2018-01-01            0      1         0.000000         1.000000        0.5   \n",
      "2018-01-02            1      1         0.781831         0.623490        0.5   \n",
      "2018-01-03            2      1         0.974928        -0.222521        0.5   \n",
      "2018-01-04            3      1         0.433884        -0.900969        0.5   \n",
      "2018-01-05            4      1        -0.433884        -0.900969        0.5   \n",
      "\n",
      "            ...  sma_10      ema_10  rsi_14      macd  macd_signal  macd_hist  \\\n",
      "Date        ...                                                                 \n",
      "2018-01-01  ...     NaN  168.066772     NaN  0.000000     0.000000   0.000000   \n",
      "2018-01-02  ...     NaN  168.049061     NaN -0.007771    -0.001554  -0.006217   \n",
      "2018-01-03  ...     NaN  167.869004     NaN -0.086412    -0.018526  -0.067886   \n",
      "2018-01-04  ...     NaN  168.406979     NaN  0.153630     0.015905   0.137724   \n",
      "2018-01-05  ...     NaN  169.918468     NaN  0.809987     0.174722   0.635265   \n",
      "\n",
      "            bollinger_upper  bollinger_lower  bollinger_mid  target  \n",
      "Date                                                                 \n",
      "2018-01-01              NaN              NaN            NaN       0  \n",
      "2018-01-02              NaN              NaN            NaN      -1  \n",
      "2018-01-03              NaN              NaN            NaN       1  \n",
      "2018-01-04              NaN              NaN            NaN       1  \n",
      "2018-01-05              NaN              NaN            NaN       1  \n",
      "\n",
      "[5 rows x 23 columns]\n",
      "\n",
      "Data info:\n",
      "<class 'pandas.core.frame.DataFrame'>\n",
      "DatetimeIndex: 1481 entries, 2018-01-01 to 2023-12-29\n",
      "Data columns (total 23 columns):\n",
      " #   Column           Non-Null Count  Dtype  \n",
      "---  ------           --------------  -----  \n",
      " 0   Close            1481 non-null   float64\n",
      " 1   High             1481 non-null   float64\n",
      " 2   Low              1481 non-null   float64\n",
      " 3   Open             1481 non-null   float64\n",
      " 4   Volume           1481 non-null   int64  \n",
      " 5   day_of_week      1481 non-null   int64  \n",
      " 6   month            1481 non-null   int64  \n",
      " 7   day_of_week_sin  1481 non-null   float64\n",
      " 8   day_of_week_cos  1481 non-null   float64\n",
      " 9   month_sin        1481 non-null   float64\n",
      " 10  month_cos        1481 non-null   float64\n",
      " 11  log_return       1480 non-null   float64\n",
      " 12  sma_5            1477 non-null   float64\n",
      " 13  sma_10           1472 non-null   float64\n",
      " 14  ema_10           1481 non-null   float64\n",
      " 15  rsi_14           1468 non-null   float64\n",
      " 16  macd             1481 non-null   float64\n",
      " 17  macd_signal      1481 non-null   float64\n",
      " 18  macd_hist        1481 non-null   float64\n",
      " 19  bollinger_upper  1462 non-null   float64\n",
      " 20  bollinger_lower  1462 non-null   float64\n",
      " 21  bollinger_mid    1462 non-null   float64\n",
      " 22  target           1481 non-null   int64  \n",
      "dtypes: float64(19), int64(4)\n",
      "memory usage: 277.7 KB\n",
      "None\n",
      "\n",
      "Missing values:\n",
      "Close               0\n",
      "High                0\n",
      "Low                 0\n",
      "Open                0\n",
      "Volume              0\n",
      "day_of_week         0\n",
      "month               0\n",
      "day_of_week_sin     0\n",
      "day_of_week_cos     0\n",
      "month_sin           0\n",
      "month_cos           0\n",
      "log_return          1\n",
      "sma_5               4\n",
      "sma_10              9\n",
      "ema_10              0\n",
      "rsi_14             13\n",
      "macd                0\n",
      "macd_signal         0\n",
      "macd_hist           0\n",
      "bollinger_upper    19\n",
      "bollinger_lower    19\n",
      "bollinger_mid      19\n",
      "target              0\n",
      "dtype: int64\n",
      "\n",
      "Target distribution:\n",
      "target\n",
      " 1    735\n",
      "-1    672\n",
      " 0     74\n",
      "Name: count, dtype: int64\n"
     ]
    }
   ],
   "source": [
    "# Load the processed data for BAJFINANCE\n",
    "stock_name = 'BAJFINANCE'\n",
    "data_path = f'stock_data_daily_processed/{stock_name}_daily_data.csv'\n",
    "\n",
    "# Read CSV - skip row 1 (ticker names) and row 2 (Date label), use row 0 as header\n",
    "df = pd.read_csv(data_path, skiprows=[1, 2], index_col=0, parse_dates=True)\n",
    "\n",
    "# Rename the index to 'Date' for clarity\n",
    "df.index.name = 'Date'\n",
    "\n",
    "print(f\"Data shape: {df.shape}\")\n",
    "print(f\"\\nFirst few rows:\")\n",
    "print(df.head())\n",
    "print(f\"\\nData info:\")\n",
    "print(df.info())\n",
    "print(f\"\\nMissing values:\")\n",
    "print(df.isnull().sum())\n",
    "print(f\"\\nTarget distribution:\")\n",
    "print(df['target'].value_counts())"
   ]
  },
  {
   "cell_type": "markdown",
   "id": "56280719",
   "metadata": {},
   "source": [
    "## 3. Data Preprocessing"
   ]
  },
  {
   "cell_type": "code",
   "execution_count": 4,
   "id": "22bb1a98",
   "metadata": {},
   "outputs": [
    {
     "name": "stdout",
     "output_type": "stream",
     "text": [
      "Shape after removing NaN: (1462, 23)\n",
      "\n",
      "Features shape: (1462, 22)\n",
      "Target shape: (1462,)\n",
      "Binary target distribution: [736 726]\n"
     ]
    }
   ],
   "source": [
    "# Remove rows with missing values\n",
    "df_clean = df.dropna()\n",
    "print(f\"Shape after removing NaN: {df_clean.shape}\")\n",
    "\n",
    "# Separate features and target\n",
    "feature_cols = [col for col in df_clean.columns if col != 'target']\n",
    "X = df_clean[feature_cols].values\n",
    "y = df_clean['target'].values\n",
    "\n",
    "# Convert target: -1 -> 0 (down), 0 -> 1 (no change), 1 -> 2 (up)\n",
    "# For binary classification, let's convert to: -1 or 0 -> 0 (down/neutral), 1 -> 1 (up)\n",
    "y_binary = (y == 1).astype(int)\n",
    "\n",
    "print(f\"\\nFeatures shape: {X.shape}\")\n",
    "print(f\"Target shape: {y_binary.shape}\")\n",
    "print(f\"Binary target distribution: {np.bincount(y_binary)}\")"
   ]
  },
  {
   "cell_type": "markdown",
   "id": "b795ac00",
   "metadata": {},
   "source": [
    "## 4. Create Sequences for LSTM"
   ]
  },
  {
   "cell_type": "code",
   "execution_count": 5,
   "id": "d559d1c9",
   "metadata": {},
   "outputs": [
    {
     "name": "stdout",
     "output_type": "stream",
     "text": [
      "Sequence shape: (1442, 20, 22)\n",
      "Target shape: (1442,)\n",
      "Target distribution in sequences: [725 717]\n"
     ]
    }
   ],
   "source": [
    "def create_sequences(X, y, sequence_length):\n",
    "    \"\"\"\n",
    "    Create sequences for LSTM input\n",
    "    X: features array\n",
    "    y: target array\n",
    "    sequence_length: number of time steps to look back\n",
    "    \"\"\"\n",
    "    X_seq, y_seq = [], []\n",
    "    \n",
    "    for i in range(len(X) - sequence_length):\n",
    "        X_seq.append(X[i:i+sequence_length])\n",
    "        y_seq.append(y[i+sequence_length])\n",
    "    \n",
    "    return np.array(X_seq), np.array(y_seq)\n",
    "\n",
    "# Set sequence length (lookback window)\n",
    "SEQUENCE_LENGTH = 20\n",
    "\n",
    "# Create sequences\n",
    "X_seq, y_seq = create_sequences(X, y_binary, SEQUENCE_LENGTH)\n",
    "\n",
    "print(f\"Sequence shape: {X_seq.shape}\")  # (samples, sequence_length, features)\n",
    "print(f\"Target shape: {y_seq.shape}\")\n",
    "print(f\"Target distribution in sequences: {np.bincount(y_seq)}\")"
   ]
  },
  {
   "cell_type": "markdown",
   "id": "87417cd9",
   "metadata": {},
   "source": [
    "## 5. Train-Test Split and Scaling"
   ]
  },
  {
   "cell_type": "code",
   "execution_count": 6,
   "id": "59a4f9a9",
   "metadata": {},
   "outputs": [
    {
     "name": "stdout",
     "output_type": "stream",
     "text": [
      "Train set: (1153, 20, 22), (1153,)\n",
      "Test set: (289, 20, 22), (289,)\n",
      "Train target distribution: [565 588]\n",
      "Test target distribution: [160 129]\n",
      "\n",
      "Scaled train shape: (1153, 20, 22)\n",
      "Scaled test shape: (289, 20, 22)\n"
     ]
    }
   ],
   "source": [
    "# Split data temporally (don't shuffle for time series)\n",
    "train_size = int(0.8 * len(X_seq))\n",
    "X_train, X_test = X_seq[:train_size], X_seq[train_size:]\n",
    "y_train, y_test = y_seq[:train_size], y_seq[train_size:]\n",
    "\n",
    "print(f\"Train set: {X_train.shape}, {y_train.shape}\")\n",
    "print(f\"Test set: {X_test.shape}, {y_test.shape}\")\n",
    "print(f\"Train target distribution: {np.bincount(y_train)}\")\n",
    "print(f\"Test target distribution: {np.bincount(y_test)}\")\n",
    "\n",
    "# Scale the features\n",
    "scaler = StandardScaler()\n",
    "\n",
    "# Reshape to 2D for scaling\n",
    "X_train_reshaped = X_train.reshape(-1, X_train.shape[-1])\n",
    "X_test_reshaped = X_test.reshape(-1, X_test.shape[-1])\n",
    "\n",
    "# Fit on train, transform both\n",
    "scaler.fit(X_train_reshaped)\n",
    "X_train_scaled = scaler.transform(X_train_reshaped).reshape(X_train.shape)\n",
    "X_test_scaled = scaler.transform(X_test_reshaped).reshape(X_test.shape)\n",
    "\n",
    "print(f\"\\nScaled train shape: {X_train_scaled.shape}\")\n",
    "print(f\"Scaled test shape: {X_test_scaled.shape}\")"
   ]
  },
  {
   "cell_type": "markdown",
   "id": "1cf6a3c4",
   "metadata": {},
   "source": [
    "## 6. Create PyTorch Dataset and DataLoader"
   ]
  },
  {
   "cell_type": "code",
   "execution_count": 7,
   "id": "1d1e9ae0",
   "metadata": {},
   "outputs": [
    {
     "name": "stdout",
     "output_type": "stream",
     "text": [
      "Number of training batches: 37\n",
      "Number of test batches: 10\n"
     ]
    }
   ],
   "source": [
    "class StockDataset(Dataset):\n",
    "    \"\"\"Custom Dataset for stock sequences\"\"\"\n",
    "    \n",
    "    def __init__(self, X, y):\n",
    "        self.X = torch.FloatTensor(X)\n",
    "        self.y = torch.LongTensor(y)\n",
    "    \n",
    "    def __len__(self):\n",
    "        return len(self.X)\n",
    "    \n",
    "    def __getitem__(self, idx):\n",
    "        return self.X[idx], self.y[idx]\n",
    "\n",
    "# Create datasets\n",
    "train_dataset = StockDataset(X_train_scaled, y_train)\n",
    "test_dataset = StockDataset(X_test_scaled, y_test)\n",
    "\n",
    "# Create dataloaders\n",
    "BATCH_SIZE = 32\n",
    "\n",
    "train_loader = DataLoader(train_dataset, batch_size=BATCH_SIZE, shuffle=False)\n",
    "test_loader = DataLoader(test_dataset, batch_size=BATCH_SIZE, shuffle=False)\n",
    "\n",
    "print(f\"Number of training batches: {len(train_loader)}\")\n",
    "print(f\"Number of test batches: {len(test_loader)}\")"
   ]
  },
  {
   "cell_type": "markdown",
   "id": "12de2b4a",
   "metadata": {},
   "source": [
    "## 7. Define LSTM Model Architecture"
   ]
  },
  {
   "cell_type": "code",
   "execution_count": 8,
   "id": "4b690b17",
   "metadata": {},
   "outputs": [
    {
     "name": "stdout",
     "output_type": "stream",
     "text": [
      "LSTMModel(\n",
      "  (lstm): LSTM(22, 128, num_layers=2, batch_first=True, dropout=0.3)\n",
      "  (dropout): Dropout(p=0.3, inplace=False)\n",
      "  (fc1): Linear(in_features=128, out_features=64, bias=True)\n",
      "  (relu): ReLU()\n",
      "  (fc2): Linear(in_features=64, out_features=2, bias=True)\n",
      ")\n",
      "\n",
      "Total parameters: 218306\n"
     ]
    }
   ],
   "source": [
    "class LSTMModel(nn.Module):\n",
    "    \"\"\"\n",
    "    Baseline LSTM model for stock price prediction\n",
    "    \"\"\"\n",
    "    def __init__(self, input_size, hidden_size, num_layers, num_classes, dropout=0.2):\n",
    "        super(LSTMModel, self).__init__()\n",
    "        \n",
    "        self.hidden_size = hidden_size\n",
    "        self.num_layers = num_layers\n",
    "        \n",
    "        # LSTM layers\n",
    "        self.lstm = nn.LSTM(\n",
    "            input_size=input_size,\n",
    "            hidden_size=hidden_size,\n",
    "            num_layers=num_layers,\n",
    "            batch_first=True,\n",
    "            dropout=dropout if num_layers > 1 else 0\n",
    "        )\n",
    "        \n",
    "        # Dropout layer\n",
    "        self.dropout = nn.Dropout(dropout)\n",
    "        \n",
    "        # Fully connected layers\n",
    "        self.fc1 = nn.Linear(hidden_size, 64)\n",
    "        self.relu = nn.ReLU()\n",
    "        self.fc2 = nn.Linear(64, num_classes)\n",
    "        \n",
    "    def forward(self, x):\n",
    "        # Initialize hidden state and cell state\n",
    "        h0 = torch.zeros(self.num_layers, x.size(0), self.hidden_size).to(x.device)\n",
    "        c0 = torch.zeros(self.num_layers, x.size(0), self.hidden_size).to(x.device)\n",
    "        \n",
    "        # Forward propagate LSTM\n",
    "        out, _ = self.lstm(x, (h0, c0))\n",
    "        \n",
    "        # Get the output from the last time step\n",
    "        out = out[:, -1, :]\n",
    "        \n",
    "        # Apply dropout\n",
    "        out = self.dropout(out)\n",
    "        \n",
    "        # Pass through fully connected layers\n",
    "        out = self.fc1(out)\n",
    "        out = self.relu(out)\n",
    "        out = self.dropout(out)\n",
    "        out = self.fc2(out)\n",
    "        \n",
    "        return out\n",
    "\n",
    "# Model hyperparameters\n",
    "INPUT_SIZE = X_train_scaled.shape[2]  # Number of features\n",
    "HIDDEN_SIZE = 128\n",
    "NUM_LAYERS = 2\n",
    "NUM_CLASSES = 2  # Binary classification\n",
    "DROPOUT = 0.3\n",
    "\n",
    "# Initialize model\n",
    "model = LSTMModel(INPUT_SIZE, HIDDEN_SIZE, NUM_LAYERS, NUM_CLASSES, DROPOUT).to(device)\n",
    "\n",
    "print(model)\n",
    "print(f\"\\nTotal parameters: {sum(p.numel() for p in model.parameters())}\")"
   ]
  },
  {
   "cell_type": "markdown",
   "id": "c13b2262",
   "metadata": {},
   "source": [
    "## 8. Define Loss Function and Optimizer"
   ]
  },
  {
   "cell_type": "code",
   "execution_count": 9,
   "id": "b8554f27",
   "metadata": {},
   "outputs": [
    {
     "name": "stdout",
     "output_type": "stream",
     "text": [
      "Criterion: CrossEntropyLoss()\n",
      "Optimizer: Adam (\n",
      "Parameter Group 0\n",
      "    amsgrad: False\n",
      "    betas: (0.9, 0.999)\n",
      "    capturable: False\n",
      "    differentiable: False\n",
      "    eps: 1e-08\n",
      "    foreach: None\n",
      "    fused: None\n",
      "    lr: 0.001\n",
      "    maximize: False\n",
      "    weight_decay: 0\n",
      ")\n",
      "Scheduler: <torch.optim.lr_scheduler.ReduceLROnPlateau object at 0x7ff0dfdcb050>\n"
     ]
    }
   ],
   "source": [
    "# Loss function - CrossEntropyLoss for classification\n",
    "criterion = nn.CrossEntropyLoss()\n",
    "\n",
    "# Optimizer - Adam\n",
    "LEARNING_RATE = 0.001\n",
    "optimizer = optim.Adam(model.parameters(), lr=LEARNING_RATE)\n",
    "\n",
    "# Learning rate scheduler\n",
    "scheduler = optim.lr_scheduler.ReduceLROnPlateau(\n",
    "    optimizer, mode='min', factor=0.5, patience=5, verbose=True\n",
    ")\n",
    "\n",
    "print(f\"Criterion: {criterion}\")\n",
    "print(f\"Optimizer: {optimizer}\")\n",
    "print(f\"Scheduler: {scheduler}\")"
   ]
  },
  {
   "cell_type": "markdown",
   "id": "6ee0200b",
   "metadata": {},
   "source": [
    "## 9. Training and Evaluation Functions"
   ]
  },
  {
   "cell_type": "code",
   "execution_count": 10,
   "id": "4c37cdc9",
   "metadata": {},
   "outputs": [
    {
     "name": "stdout",
     "output_type": "stream",
     "text": [
      "Training and evaluation functions defined.\n"
     ]
    }
   ],
   "source": [
    "def train_epoch(model, dataloader, criterion, optimizer, device):\n",
    "    \"\"\"Train for one epoch\"\"\"\n",
    "    model.train()\n",
    "    running_loss = 0.0\n",
    "    correct = 0\n",
    "    total = 0\n",
    "    \n",
    "    for X_batch, y_batch in dataloader:\n",
    "        X_batch, y_batch = X_batch.to(device), y_batch.to(device)\n",
    "        \n",
    "        # Zero the gradients\n",
    "        optimizer.zero_grad()\n",
    "        \n",
    "        # Forward pass\n",
    "        outputs = model(X_batch)\n",
    "        loss = criterion(outputs, y_batch)\n",
    "        \n",
    "        # Backward pass and optimize\n",
    "        loss.backward()\n",
    "        optimizer.step()\n",
    "        \n",
    "        # Statistics\n",
    "        running_loss += loss.item() * X_batch.size(0)\n",
    "        _, predicted = torch.max(outputs.data, 1)\n",
    "        total += y_batch.size(0)\n",
    "        correct += (predicted == y_batch).sum().item()\n",
    "    \n",
    "    epoch_loss = running_loss / total\n",
    "    epoch_acc = correct / total\n",
    "    \n",
    "    return epoch_loss, epoch_acc\n",
    "\n",
    "\n",
    "def evaluate(model, dataloader, criterion, device):\n",
    "    \"\"\"Evaluate the model\"\"\"\n",
    "    model.eval()\n",
    "    running_loss = 0.0\n",
    "    correct = 0\n",
    "    total = 0\n",
    "    all_preds = []\n",
    "    all_labels = []\n",
    "    \n",
    "    with torch.no_grad():\n",
    "        for X_batch, y_batch in dataloader:\n",
    "            X_batch, y_batch = X_batch.to(device), y_batch.to(device)\n",
    "            \n",
    "            # Forward pass\n",
    "            outputs = model(X_batch)\n",
    "            loss = criterion(outputs, y_batch)\n",
    "            \n",
    "            # Statistics\n",
    "            running_loss += loss.item() * X_batch.size(0)\n",
    "            _, predicted = torch.max(outputs.data, 1)\n",
    "            total += y_batch.size(0)\n",
    "            correct += (predicted == y_batch).sum().item()\n",
    "            \n",
    "            all_preds.extend(predicted.cpu().numpy())\n",
    "            all_labels.extend(y_batch.cpu().numpy())\n",
    "    \n",
    "    epoch_loss = running_loss / total\n",
    "    epoch_acc = correct / total\n",
    "    \n",
    "    return epoch_loss, epoch_acc, np.array(all_preds), np.array(all_labels)\n",
    "\n",
    "print(\"Training and evaluation functions defined.\")"
   ]
  },
  {
   "cell_type": "markdown",
   "id": "c152b62d",
   "metadata": {},
   "source": [
    "## 10. Train the Model"
   ]
  },
  {
   "cell_type": "code",
   "execution_count": 13,
   "id": "3341c9d9",
   "metadata": {},
   "outputs": [
    {
     "name": "stdout",
     "output_type": "stream",
     "text": [
      "Training for 50 epochs...\n",
      "======================================================================\n",
      "Epoch [1/50] Train Loss: 0.6545, Train Acc: 0.6097 | Val Loss: 0.8077, Val Acc: 0.4740\n",
      "Epoch [5/50] Train Loss: 0.6473, Train Acc: 0.6184 | Val Loss: 0.8528, Val Acc: 0.4671\n",
      "Epoch [10/50] Train Loss: 0.6308, Train Acc: 0.6418 | Val Loss: 0.8496, Val Acc: 0.4740\n",
      "Epoch [15/50] Train Loss: 0.6255, Train Acc: 0.6418 | Val Loss: 0.9072, Val Acc: 0.4671\n",
      "Epoch [20/50] Train Loss: 0.6173, Train Acc: 0.6513 | Val Loss: 0.9251, Val Acc: 0.4706\n",
      "Epoch [25/50] Train Loss: 0.6210, Train Acc: 0.6635 | Val Loss: 0.9363, Val Acc: 0.4706\n",
      "Epoch [30/50] Train Loss: 0.6177, Train Acc: 0.6531 | Val Loss: 0.9435, Val Acc: 0.4706\n",
      "Epoch [35/50] Train Loss: 0.6156, Train Acc: 0.6696 | Val Loss: 0.9415, Val Acc: 0.4706\n",
      "Epoch [40/50] Train Loss: 0.6203, Train Acc: 0.6565 | Val Loss: 0.9438, Val Acc: 0.4671\n",
      "Epoch [45/50] Train Loss: 0.6159, Train Acc: 0.6635 | Val Loss: 0.9440, Val Acc: 0.4671\n",
      "Epoch [50/50] Train Loss: 0.6180, Train Acc: 0.6522 | Val Loss: 0.9450, Val Acc: 0.4671\n",
      "======================================================================\n",
      "Training completed!\n"
     ]
    }
   ],
   "source": [
    "NUM_EPOCHS = 50\n",
    "\n",
    "# Track history\n",
    "history = {\n",
    "    'train_loss': [],\n",
    "    'train_acc': [],\n",
    "    'val_loss': [],\n",
    "    'val_acc': []\n",
    "}\n",
    "\n",
    "best_val_loss = float('inf')\n",
    "patience_counter = 0\n",
    "early_stop_patience = 50\n",
    "\n",
    "print(f\"Training for {NUM_EPOCHS} epochs...\")\n",
    "print(\"=\"*70)\n",
    "\n",
    "for epoch in range(NUM_EPOCHS):\n",
    "    # Train\n",
    "    train_loss, train_acc = train_epoch(model, train_loader, criterion, optimizer, device)\n",
    "    \n",
    "    # Evaluate\n",
    "    val_loss, val_acc, _, _ = evaluate(model, test_loader, criterion, device)\n",
    "    \n",
    "    # Update learning rate\n",
    "    scheduler.step(val_loss)\n",
    "    \n",
    "    # Save history\n",
    "    history['train_loss'].append(train_loss)\n",
    "    history['train_acc'].append(train_acc)\n",
    "    history['val_loss'].append(val_loss)\n",
    "    history['val_acc'].append(val_acc)\n",
    "    \n",
    "    # Print progress\n",
    "    if (epoch + 1) % 5 == 0 or epoch == 0:\n",
    "        print(f\"Epoch [{epoch+1}/{NUM_EPOCHS}] \"\n",
    "              f\"Train Loss: {train_loss:.4f}, Train Acc: {train_acc:.4f} | \"\n",
    "              f\"Val Loss: {val_loss:.4f}, Val Acc: {val_acc:.4f}\")\n",
    "    \n",
    "    # Early stopping\n",
    "    if val_loss < best_val_loss:\n",
    "        best_val_loss = val_loss\n",
    "        patience_counter = 0\n",
    "        # Save best model\n",
    "        torch.save(model.state_dict(), 'best_lstm_model.pth')\n",
    "    else:\n",
    "        patience_counter += 1\n",
    "    \n",
    "    if patience_counter >= early_stop_patience:\n",
    "        print(f\"\\nEarly stopping triggered at epoch {epoch+1}\")\n",
    "        break\n",
    "\n",
    "print(\"=\"*70)\n",
    "print(\"Training completed!\")"
   ]
  },
  {
   "cell_type": "markdown",
   "id": "4cb6588b",
   "metadata": {},
   "source": [
    "## 11. Plot Training History"
   ]
  },
  {
   "cell_type": "code",
   "execution_count": 14,
   "id": "b58e1184",
   "metadata": {},
   "outputs": [
    {
     "data": {
      "image/png": "[encoded data removed]",
      "text/plain": [
       "<Figure size 1500x500 with 2 Axes>"
      ]
     },
     "metadata": {},
     "output_type": "display_data"
    }
   ],
   "source": [
    "fig, axes = plt.subplots(1, 2, figsize=(15, 5))\n",
    "\n",
    "# Plot loss\n",
    "axes[0].plot(history['train_loss'], label='Train Loss')\n",
    "axes[0].plot(history['val_loss'], label='Validation Loss')\n",
    "axes[0].set_xlabel('Epoch')\n",
    "axes[0].set_ylabel('Loss')\n",
    "axes[0].set_title('Training and Validation Loss')\n",
    "axes[0].legend()\n",
    "axes[0].grid(True, alpha=0.3)\n",
    "\n",
    "# Plot accuracy\n",
    "axes[1].plot(history['train_acc'], label='Train Accuracy')\n",
    "axes[1].plot(history['val_acc'], label='Validation Accuracy')\n",
    "axes[1].set_xlabel('Epoch')\n",
    "axes[1].set_ylabel('Accuracy')\n",
    "axes[1].set_title('Training and Validation Accuracy')\n",
    "axes[1].legend()\n",
    "axes[1].grid(True, alpha=0.3)\n",
    "\n",
    "plt.tight_layout()\n",
    "plt.show()"
   ]
  },
  {
   "cell_type": "markdown",
   "id": "c99f36d3",
   "metadata": {},
   "source": [
    "## 12. Load Best Model and Final Evaluation"
   ]
  },
  {
   "cell_type": "code",
   "execution_count": 15,
   "id": "045ddcec",
   "metadata": {},
   "outputs": [
    {
     "name": "stdout",
     "output_type": "stream",
     "text": [
      "======================================================================\n",
      "FINAL TEST SET RESULTS\n",
      "======================================================================\n",
      "Test Loss: 0.8077\n",
      "Test Accuracy: 0.4775\n",
      "\n",
      "Classification Report:\n",
      "              precision    recall  f1-score   support\n",
      "\n",
      "Down/Neutral       0.55      0.34      0.42       160\n",
      "          Up       0.44      0.65      0.53       129\n",
      "\n",
      "    accuracy                           0.48       289\n",
      "   macro avg       0.49      0.49      0.47       289\n",
      "weighted avg       0.50      0.48      0.47       289\n",
      "\n",
      "\n",
      "Precision: 0.4421\n",
      "Recall: 0.6512\n",
      "F1-Score: 0.5266\n"
     ]
    }
   ],
   "source": [
    "# Load best model\n",
    "model.load_state_dict(torch.load('best_lstm_model.pth'))\n",
    "model.eval()\n",
    "\n",
    "# Evaluate on test set\n",
    "test_loss, test_acc, test_preds, test_labels = evaluate(model, test_loader, criterion, device)\n",
    "\n",
    "print(\"=\"*70)\n",
    "print(\"FINAL TEST SET RESULTS\")\n",
    "print(\"=\"*70)\n",
    "print(f\"Test Loss: {test_loss:.4f}\")\n",
    "print(f\"Test Accuracy: {test_acc:.4f}\")\n",
    "print()\n",
    "\n",
    "# Classification report\n",
    "print(\"Classification Report:\")\n",
    "print(classification_report(test_labels, test_preds, target_names=['Down/Neutral', 'Up']))\n",
    "\n",
    "# Additional metrics\n",
    "precision = precision_score(test_labels, test_preds, average='binary')\n",
    "recall = recall_score(test_labels, test_preds, average='binary')\n",
    "f1 = f1_score(test_labels, test_preds, average='binary')\n",
    "\n",
    "print(f\"\\nPrecision: {precision:.4f}\")\n",
    "print(f\"Recall: {recall:.4f}\")\n",
    "print(f\"F1-Score: {f1:.4f}\")"
   ]
  },
  {
   "cell_type": "markdown",
   "id": "8f1ad608",
   "metadata": {},
   "source": [
    "## 13. Confusion Matrix"
   ]
  },
  {
   "cell_type": "code",
   "execution_count": null,
   "id": "839479e3",
   "metadata": {},
   "outputs": [],
   "source": [
    "# Compute confusion matrix\n",
    "cm = confusion_matrix(test_labels, test_preds)\n",
    "\n",
    "# Plot confusion matrix\n",
    "plt.figure(figsize=(8, 6))\n",
    "sns.heatmap(cm, annot=True, fmt='d', cmap='Blues', \n",
    "            xticklabels=['Down/Neutral', 'Up'],\n",
    "            yticklabels=['Down/Neutral', 'Up'])\n",
    "plt.xlabel('Predicted')\n",
    "plt.ylabel('Actual')\n",
    "plt.title('Confusion Matrix - LSTM Baseline Model')\n",
    "plt.tight_layout()\n",
    "plt.show()\n",
    "\n",
    "# Calculate percentage\n",
    "cm_percent = cm.astype('float') / cm.sum(axis=1)[:, np.newaxis] * 100\n",
    "print(\"\\nConfusion Matrix (Percentages):\")\n",
    "print(cm_percent)"
   ]
  },
  {
   "cell_type": "markdown",
   "id": "099fed72",
   "metadata": {},
   "source": [
    "## 14. Model Summary and Key Insights"
   ]
  },
  {
   "cell_type": "code",
   "execution_count": null,
   "id": "4b6800a8",
   "metadata": {},
   "outputs": [],
   "source": [
    "print(\"=\"*70)\n",
    "print(\"BASELINE LSTM MODEL SUMMARY\")\n",
    "print(\"=\"*70)\n",
    "print(f\"\\nStock: {stock_name}\")\n",
    "print(f\"Data Shape: {df_clean.shape}\")\n",
    "print(f\"Sequence Length: {SEQUENCE_LENGTH}\")\n",
    "print(f\"Train Samples: {len(X_train)}\")\n",
    "print(f\"Test Samples: {len(X_test)}\")\n",
    "print(f\"\\nModel Architecture:\")\n",
    "print(f\"  - Input Features: {INPUT_SIZE}\")\n",
    "print(f\"  - Hidden Size: {HIDDEN_SIZE}\")\n",
    "print(f\"  - Number of LSTM Layers: {NUM_LAYERS}\")\n",
    "print(f\"  - Dropout: {DROPOUT}\")\n",
    "print(f\"  - Total Parameters: {sum(p.numel() for p in model.parameters())}\")\n",
    "print(f\"\\nTraining Configuration:\")\n",
    "print(f\"  - Batch Size: {BATCH_SIZE}\")\n",
    "print(f\"  - Learning Rate: {LEARNING_RATE}\")\n",
    "print(f\"  - Epochs Trained: {len(history['train_loss'])}\")\n",
    "print(f\"  - Optimizer: Adam\")\n",
    "print(f\"  - Loss Function: CrossEntropyLoss\")\n",
    "print(f\"\\nPerformance Metrics:\")\n",
    "print(f\"  - Test Accuracy: {test_acc:.4f}\")\n",
    "print(f\"  - Test Loss: {test_loss:.4f}\")\n",
    "print(f\"  - Precision: {precision:.4f}\")\n",
    "print(f\"  - Recall: {recall:.4f}\")\n",
    "print(f\"  - F1-Score: {f1:.4f}\")\n",
    "print(\"=\"*70)"
   ]
  },
  {
   "cell_type": "markdown",
   "id": "563746ac",
   "metadata": {},
   "source": [
    "## Next Steps and Potential Improvements\n",
    "\n",
    "### Baseline Model Complete ✓\n",
    "This notebook implements a baseline LSTM model with the following characteristics:\n",
    "- **Binary classification**: Predicting if price goes up (1) or down/neutral (0)\n",
    "- **Sequence-based learning**: Uses 20-day lookback window\n",
    "- **2-layer LSTM**: 128 hidden units with dropout regularization\n",
    "- **Temporal split**: 80/20 train-test split preserving time order\n",
    "\n",
    "### Potential Improvements:\n",
    "1. **Multi-class classification**: Predict all three classes (-1, 0, 1) instead of binary\n",
    "2. **Hyperparameter tuning**: Grid search for optimal sequence length, hidden size, layers\n",
    "3. **Feature engineering**: Add sentiment features from `final_sentiment_features/`\n",
    "4. **Attention mechanism**: Add attention layers to focus on important time steps\n",
    "5. **Bidirectional LSTM**: Capture both forward and backward temporal patterns\n",
    "6. **Ensemble methods**: Combine with other models (GRU, Transformer)\n",
    "7. **Cross-validation**: Implement time-series cross-validation\n",
    "8. **Multi-stock training**: Train on all 10 stocks simultaneously\n",
    "9. **Class balancing**: Handle imbalanced target distribution with weighted loss\n",
    "10. **Advanced architectures**: Try Transformer or temporal convolutional networks\n",
    "\n",
    "### To Train on Other Stocks:\n",
    "Simply change the `stock_name` variable to one of:\n",
    "- BAJFINANCE\n",
    "- BHARTIARTL\n",
    "- HDFCBANK\n",
    "- HINDUNILVR\n",
    "- ICICIBANK\n",
    "- INFY\n",
    "- KOTAKBANK\n",
    "- RELIANCE\n",
    "- SBIN\n",
    "- TCS"
   ]
  }
 ],
 "metadata": {
  "kernelspec": {
   "display_name": "pytorch_env",
   "language": "python",
   "name": "python3"
  },
  "language_info": {
   "codemirror_mode": {
    "name": "ipython",
    "version": 3
   },
   "file_extension": ".py",
   "mimetype": "text/x-python",
   "name": "python",
   "nbconvert_exporter": "python",
   "pygments_lexer": "ipython3",
   "version": "3.12.7"
  }
 },
 "nbformat": 4,
 "nbformat_minor": 5
}
