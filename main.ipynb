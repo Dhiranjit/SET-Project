{
 "cells": [
  {
   "cell_type": "markdown",
   "id": "475ff2a8",
   "metadata": {},
   "source": [
    "# Data Import"
   ]
  },
  {
   "cell_type": "markdown",
   "id": "0edfdf45",
   "metadata": {},
   "source": [
    "### News API"
   ]
  },
  {
   "cell_type": "code",
   "execution_count": 1,
   "id": "7b03ad80",
   "metadata": {},
   "outputs": [],
   "source": [
    "nifty_top_tickers = [\n",
    "    \"RELIANCE\",\n",
    "    \"HDFCBANK\",\n",
    "    \"TCS\",\n",
    "    \"BHARTIARTL\",\n",
    "    \"ICICIBANK\",\n",
    "    \"SBIN\",\n",
    "    \"INFY\",\n",
    "    \"KOTAKBANK\",\n",
    "    \"BAJFINANCE\",\n",
    "    \"HINDUNILVR\"\n",
    "]\n"
   ]
  },
  {
   "cell_type": "code",
   "execution_count": 4,
   "id": "63a4fad8",
   "metadata": {},
   "outputs": [
    {
     "name": "stdout",
     "output_type": "stream",
     "text": [
      "Saved RELIANCE news data - 6654 rows\n",
      "Saved HDFCBANK news data - 8481 rows\n",
      "Saved TCS news data - 8277 rows\n",
      "Saved BHARTIARTL news data - 9247 rows\n",
      "Saved ICICIBANK news data - 6319 rows\n",
      "Saved SBIN news data - 10000 rows\n",
      "Saved INFY news data - 8700 rows\n",
      "Saved KOTAKBANK news data - 3047 rows\n",
      "Saved BAJFINANCE news data - 2716 rows\n",
      "Saved HINDUNILVR news data - 3517 rows\n"
     ]
    }
   ],
   "source": [
    "import s3fs\n",
    "import pandas as pd\n",
    "for tick in nifty_top_tickers:\n",
    "    uri = f\"s3://desiquant/data/news/{tick}.parquet.gz\"\n",
    "\n",
    "    s3_params = {\n",
    "    \"endpoint_url\": \"https://cbabd13f6c54798a9ec05df5b8070a6e.r2.cloudflarestorage.com\",\n",
    "    \"key\": \"5c8ea9c516abfc78987bc98c70d2868a\", # FREE credentials for public access!\n",
    "    \"secret\": \"0cf64f9f0b64f6008cf5efe1529c6772daa7d7d0822f5db42a7c6a1e41b3cadf\", # FREE credentials for public access!\n",
    "    \"client_kwargs\": {\n",
    "        \"region_name\": \"auto\"\n",
    "        },\n",
    "    }\n",
    "  \n",
    "    df = pd.read_parquet(uri, storage_options=s3_params)\n",
    "    df.to_csv(f'Stock News/{tick}_news.csv', index=False)\n",
    "    print(f\"Saved {tick} news data - {len(df)} rows\")"
   ]
  },
  {
   "cell_type": "markdown",
   "id": "3418b3a5",
   "metadata": {},
   "source": [
    "### Stock Data"
   ]
  },
  {
   "cell_type": "code",
   "execution_count": null,
   "id": "395e1fd4",
   "metadata": {},
   "outputs": [
    {
     "name": "stdout",
     "output_type": "stream",
     "text": [
      "Saved RELIANCE candles data - 604670 rows\n",
      "Saved HDFCBANK candles data - 604604 rows\n",
      "Saved TCS candles data - 604675 rows\n",
      "Saved BHARTIARTL candles data - 604689 rows\n",
      "Saved ICICIBANK candles data - 604614 rows\n",
      "Saved SBIN candles data - 604696 rows\n",
      "Saved INFY candles data - 604622 rows\n",
      "Saved KOTAKBANK candles data - 604682 rows\n",
      "Saved BAJFINANCE candles data - 604687 rows\n",
      "Saved HINDUNILVR candles data - 604603 rows\n"
     ]
    }
   ],
   "source": [
    "import s3fs\n",
    "import pandas as pd\n",
    "\n",
    "for tick in nifty_top_tickers:\n",
    "    uri = f\"s3://desiquant/data/candles/{tick}/EQ.parquet.gz\"\n",
    "\n",
    "    s3_params = {\n",
    "    \"endpoint_url\": \"https://cbabd13f6c54798a9ec05df5b8070a6e.r2.cloudflarestorage.com\",\n",
    "    \"key\": \"5c8ea9c516abfc78987bc98c70d2868a\", # FREE credentials for public access!\n",
    "    \"secret\": \"0cf64f9f0b64f6008cf5efe1529c6772daa7d7d0822f5db42a7c6a1e41b3cadf\", # FREE credentials for public access!\n",
    "    \"client_kwargs\": {\n",
    "        \"region_name\": \"auto\"\n",
    "        },\n",
    "    }\n",
    "\n",
    "    df = pd.read_parquet(uri, storage_options=s3_params)\n",
    "    df.to_csv(f'Stock Data/{tick}_candles.csv', index=False)\n",
    "    print(f\"Saved {tick} candles data - {len(df)} rows\")"
   ]
  },
  {
   "cell_type": "markdown",
   "id": "b577e84c",
   "metadata": {},
   "source": [
    "# Data Preprocessing"
   ]
  },
  {
   "cell_type": "markdown",
   "id": "9f490b78",
   "metadata": {},
   "source": [
    "### Converting into 30 Minutes window"
   ]
  },
  {
   "cell_type": "code",
   "execution_count": 1,
   "id": "c225de4e",
   "metadata": {},
   "outputs": [
    {
     "ename": "NameError",
     "evalue": "name 'nifty_top_tickers' is not defined",
     "output_type": "error",
     "traceback": [
      "\u001b[31m---------------------------------------------------------------------------\u001b[39m",
      "\u001b[31mNameError\u001b[39m                                 Traceback (most recent call last)",
      "\u001b[36mCell\u001b[39m\u001b[36m \u001b[39m\u001b[32mIn[1]\u001b[39m\u001b[32m, line 3\u001b[39m\n\u001b[32m      1\u001b[39m \u001b[38;5;28;01mimport\u001b[39;00m\u001b[38;5;250m \u001b[39m\u001b[34;01mpandas\u001b[39;00m\u001b[38;5;250m \u001b[39m\u001b[38;5;28;01mas\u001b[39;00m\u001b[38;5;250m \u001b[39m\u001b[34;01mpd\u001b[39;00m\n\u001b[32m----> \u001b[39m\u001b[32m3\u001b[39m \u001b[38;5;28;01mfor\u001b[39;00m tick \u001b[38;5;129;01min\u001b[39;00m \u001b[43mnifty_top_tickers\u001b[49m:\n\u001b[32m      4\u001b[39m     \u001b[38;5;66;03m# Read the 1-minute data\u001b[39;00m\n\u001b[32m      5\u001b[39m     df = pd.read_csv(\u001b[33mf\u001b[39m\u001b[33m'\u001b[39m\u001b[33mStock Data/\u001b[39m\u001b[38;5;132;01m{\u001b[39;00mtick\u001b[38;5;132;01m}\u001b[39;00m\u001b[33m_candles.csv\u001b[39m\u001b[33m'\u001b[39m)\n\u001b[32m      7\u001b[39m     \u001b[38;5;66;03m# Convert date to datetime (changed from 'timestamp' to 'date')\u001b[39;00m\n",
      "\u001b[31mNameError\u001b[39m: name 'nifty_top_tickers' is not defined"
     ]
    }
   ],
   "source": [
    "import pandas as pd\n",
    "\n",
    "for tick in nifty_top_tickers:\n",
    "    # Read the 1-minute data\n",
    "    df = pd.read_csv(f'Stock Data/{tick}_candles.csv')\n",
    "    \n",
    "    # Convert date to datetime (changed from 'timestamp' to 'date')\n",
    "    df['date'] = pd.to_datetime(df['date'])\n",
    "    df.set_index('date', inplace=True)\n",
    "    \n",
    "    # Resample to hourly OHLC\n",
    "    df_hourly = df.resample('1h').agg({\n",
    "        'open': 'first',    # First open price of the hour\n",
    "        'high': 'max',      # Highest price in the hour\n",
    "        'low': 'min',       # Lowest price in the hour\n",
    "        'close': 'last',    # Last close price of the hour\n",
    "        'volume': 'sum'     # Total volume in the hour\n",
    "    })\n",
    "    \n",
    "    # Remove rows with no data (market closed hours)\n",
    "    df_hourly = df_hourly.dropna()\n",
    "    \n",
    "    # Save compressed hourly data\n",
    "    df_hourly.to_csv(f'Stock Data Hourly/{tick}_hourly.csv')\n",
    "    print(f\"✓ Compressed {tick}: {len(df)} rows → {len(df_hourly)} rows (hourly)\")"
   ]
  },
  {
   "cell_type": "code",
   "execution_count": null,
   "id": "0954546f",
   "metadata": {},
   "outputs": [],
   "source": []
  }
 ],
 "metadata": {
  "kernelspec": {
   "display_name": "pytorch_env",
   "language": "python",
   "name": "python3"
  },
  "language_info": {
   "codemirror_mode": {
    "name": "ipython",
    "version": 3
   },
   "file_extension": ".py",
   "mimetype": "text/x-python",
   "name": "python",
   "nbconvert_exporter": "python",
   "pygments_lexer": "ipython3",
   "version": "3.12.7"
  }
 },
 "nbformat": 4,
 "nbformat_minor": 5
}
