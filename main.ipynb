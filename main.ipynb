{
 "cells": [
  {
   "cell_type": "markdown",
   "id": "475ff2a8",
   "metadata": {},
   "source": [
    "# Data Import"
   ]
  },
  {
   "cell_type": "markdown",
   "id": "0edfdf45",
   "metadata": {},
   "source": [
    "### News API"
   ]
  },
  {
   "cell_type": "code",
   "execution_count": 1,
   "id": "7b03ad80",
   "metadata": {},
   "outputs": [],
   "source": [
    "nifty_top_tickers = [\n",
    "    \"RELIANCE\",\n",
    "    \"HDFCBANK\",\n",
    "    \"TCS\",\n",
    "    \"BHARTIARTL\",\n",
    "    \"ICICIBANK\",\n",
    "    \"SBIN\",\n",
    "    \"INFY\",\n",
    "    \"KOTAKBANK\",\n",
    "    \"BAJFINANCE\",\n",
    "    \"HINDUNILVR\"\n",
    "]\n"
   ]
  },
  {
   "cell_type": "code",
   "execution_count": 4,
   "id": "63a4fad8",
   "metadata": {},
   "outputs": [
    {
     "name": "stdout",
     "output_type": "stream",
     "text": [
      "Saved RELIANCE news data - 6654 rows\n",
      "Saved HDFCBANK news data - 8481 rows\n",
      "Saved TCS news data - 8277 rows\n",
      "Saved BHARTIARTL news data - 9247 rows\n",
      "Saved ICICIBANK news data - 6319 rows\n",
      "Saved SBIN news data - 10000 rows\n",
      "Saved INFY news data - 8700 rows\n",
      "Saved KOTAKBANK news data - 3047 rows\n",
      "Saved BAJFINANCE news data - 2716 rows\n",
      "Saved HINDUNILVR news data - 3517 rows\n"
     ]
    }
   ],
   "source": [
    "import s3fs\n",
    "import pandas as pd\n",
    "for tick in nifty_top_tickers:\n",
    "    uri = f\"s3://desiquant/data/news/{tick}.parquet.gz\"\n",
    "\n",
    "    s3_params = {\n",
    "    \"endpoint_url\": \"https://cbabd13f6c54798a9ec05df5b8070a6e.r2.cloudflarestorage.com\",\n",
    "    \"key\": \"5c8ea9c516abfc78987bc98c70d2868a\", # FREE credentials for public access!\n",
    "    \"secret\": \"0cf64f9f0b64f6008cf5efe1529c6772daa7d7d0822f5db42a7c6a1e41b3cadf\", # FREE credentials for public access!\n",
    "    \"client_kwargs\": {\n",
    "        \"region_name\": \"auto\"\n",
    "        },\n",
    "    }\n",
    "  \n",
    "    df = pd.read_parquet(uri, storage_options=s3_params)\n",
    "    df.to_csv(f'Stock News/{tick}_news.csv', index=False)\n",
    "    print(f\"Saved {tick} news data - {len(df)} rows\")"
   ]
  },
  {
   "cell_type": "markdown",
   "id": "3418b3a5",
   "metadata": {},
   "source": [
    "### Stock Data"
   ]
  },
  {
   "cell_type": "code",
   "execution_count": null,
   "id": "395e1fd4",
   "metadata": {},
   "outputs": [
    {
     "name": "stdout",
     "output_type": "stream",
     "text": [
      "Saved RELIANCE candles data - 604670 rows\n",
      "Saved HDFCBANK candles data - 604604 rows\n",
      "Saved TCS candles data - 604675 rows\n",
      "Saved BHARTIARTL candles data - 604689 rows\n",
      "Saved ICICIBANK candles data - 604614 rows\n",
      "Saved SBIN candles data - 604696 rows\n",
      "Saved INFY candles data - 604622 rows\n",
      "Saved KOTAKBANK candles data - 604682 rows\n",
      "Saved BAJFINANCE candles data - 604687 rows\n",
      "Saved HINDUNILVR candles data - 604603 rows\n"
     ]
    }
   ],
   "source": [
    "import s3fs\n",
    "import pandas as pd\n",
    "\n",
    "for tick in nifty_top_tickers:\n",
    "    uri = f\"s3://desiquant/data/candles/{tick}/EQ.parquet.gz\"\n",
    "\n",
    "    s3_params = {\n",
    "    \"endpoint_url\": \"https://cbabd13f6c54798a9ec05df5b8070a6e.r2.cloudflarestorage.com\",\n",
    "    \"key\": \"5c8ea9c516abfc78987bc98c70d2868a\", # FREE credentials for public access!\n",
    "    \"secret\": \"0cf64f9f0b64f6008cf5efe1529c6772daa7d7d0822f5db42a7c6a1e41b3cadf\", # FREE credentials for public access!\n",
    "    \"client_kwargs\": {\n",
    "        \"region_name\": \"auto\"\n",
    "        },\n",
    "    }\n",
    "\n",
    "    df = pd.read_parquet(uri, storage_options=s3_params)\n",
    "    df.to_csv(f'Stock Data/{tick}_candles.csv', index=False)\n",
    "    print(f\"Saved {tick} candles data - {len(df)} rows\")"
   ]
  },
  {
   "cell_type": "markdown",
   "id": "4a3d0931",
   "metadata": {},
   "source": [
    "### YFinance"
   ]
  },
  {
   "cell_type": "code",
   "execution_count": null,
   "id": "15dcd272",
   "metadata": {},
   "outputs": [],
   "source": [
    "import yfinance as yf\n",
    "import pandas as pd\n",
    "from datetime import datetime\n",
    "import os\n",
    "\n",
    "# Create directory for CSV files if it doesn't exist\n",
    "os.makedirs('stock_data_daily', exist_ok=True)\n",
    "\n",
    "# Define date range\n",
    "start_date = \"2022-01-01\"\n",
    "end_date = \"2025-01-01\"\n",
    "\n",
    "# Download and save data for each ticker\n",
    "for ticker in nifty_top_tickers:\n",
    "    try:\n",
    "        # Add .NS suffix for NSE stocks\n",
    "        ticker_symbol = f\"{ticker}.NS\"\n",
    "        \n",
    "        # Download data\n",
    "        print(f\"Downloading data for {ticker}...\")\n",
    "        data = yf.download(ticker_symbol, start=start_date, end=end_date)\n",
    "        \n",
    "        # Save to CSV\n",
    "        filename = f\"stock_data_daily/{ticker}_daily_data.csv\"\n",
    "        data.to_csv(filename)\n",
    "        print(f\"Saved {ticker} data to {filename}\")\n",
    "        \n",
    "    except Exception as e:\n",
    "        print(f\"Error downloading {ticker}: {e}\")\n",
    "\n",
    "print(\"\\nDownload complete!\")"
   ]
  },
  {
   "cell_type": "markdown",
   "id": "b577e84c",
   "metadata": {},
   "source": [
    "# Data Preprocessing"
   ]
  },
  {
   "cell_type": "markdown",
   "id": "9f490b78",
   "metadata": {},
   "source": [
    "### Converting into 30 Minutes window"
   ]
  },
  {
   "cell_type": "code",
   "execution_count": null,
   "id": "c225de4e",
   "metadata": {},
   "outputs": [],
   "source": []
  },
  {
   "cell_type": "code",
   "execution_count": null,
   "id": "0954546f",
   "metadata": {},
   "outputs": [],
   "source": []
  }
 ],
 "metadata": {
  "kernelspec": {
   "display_name": "pytorch_env",
   "language": "python",
   "name": "python3"
  },
  "language_info": {
   "codemirror_mode": {
    "name": "ipython",
    "version": 3
   },
   "file_extension": ".py",
   "mimetype": "text/x-python",
   "name": "python",
   "nbconvert_exporter": "python",
   "pygments_lexer": "ipython3",
   "version": "3.12.7"
  }
 },
 "nbformat": 4,
 "nbformat_minor": 5
}
