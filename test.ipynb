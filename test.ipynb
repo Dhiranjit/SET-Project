{
 "cells": [
  {
   "cell_type": "code",
   "execution_count": 3,
   "id": "f88122b1",
   "metadata": {},
   "outputs": [],
   "source": [
    "nifty_top_tickers = [\n",
    "    \"RELIANCE\",\n",
    "    \"HDFCBANK\",\n",
    "    \"TCS\",\n",
    "    \"BHARTIARTL\",\n",
    "    \"ICICIBANK\",\n",
    "    \"SBIN\",\n",
    "    \"INFY\",\n",
    "    \"KOTAKBANK\",\n",
    "    \"BAJFINANCE\",\n",
    "    \"HINDUNILVR\"\n",
    "]\n"
   ]
  },
  {
   "cell_type": "code",
   "execution_count": 4,
   "id": "6f10b612",
   "metadata": {},
   "outputs": [
    {
     "name": "stdout",
     "output_type": "stream",
     "text": [
      "Downloading data for RELIANCE...\n"
     ]
    },
    {
     "name": "stderr",
     "output_type": "stream",
     "text": [
      "/tmp/ipykernel_32154/3385722862.py:21: FutureWarning: YF.download() has changed argument auto_adjust default to True\n",
      "  data = yf.download(ticker_symbol, start=start_date, end=end_date)\n",
      "[*********************100%***********************]  1 of 1 completed\n",
      "/tmp/ipykernel_32154/3385722862.py:21: FutureWarning: YF.download() has changed argument auto_adjust default to True\n",
      "  data = yf.download(ticker_symbol, start=start_date, end=end_date)\n",
      "\n",
      "/tmp/ipykernel_32154/3385722862.py:21: FutureWarning: YF.download() has changed argument auto_adjust default to True\n",
      "  data = yf.download(ticker_symbol, start=start_date, end=end_date)\n"
     ]
    },
    {
     "name": "stdout",
     "output_type": "stream",
     "text": [
      "Saved RELIANCE data to stock_data_daily/RELIANCE_daily_data.csv\n",
      "Downloading data for HDFCBANK...\n"
     ]
    },
    {
     "name": "stderr",
     "output_type": "stream",
     "text": [
      "[*********************100%***********************]  1 of 1 completed\n",
      "/tmp/ipykernel_32154/3385722862.py:21: FutureWarning: YF.download() has changed argument auto_adjust default to True\n",
      "  data = yf.download(ticker_symbol, start=start_date, end=end_date)\n",
      "\n",
      "/tmp/ipykernel_32154/3385722862.py:21: FutureWarning: YF.download() has changed argument auto_adjust default to True\n",
      "  data = yf.download(ticker_symbol, start=start_date, end=end_date)\n"
     ]
    },
    {
     "name": "stdout",
     "output_type": "stream",
     "text": [
      "Saved HDFCBANK data to stock_data_daily/HDFCBANK_daily_data.csv\n",
      "Downloading data for TCS...\n"
     ]
    },
    {
     "name": "stderr",
     "output_type": "stream",
     "text": [
      "[*********************100%***********************]  1 of 1 completed\n",
      "/tmp/ipykernel_32154/3385722862.py:21: FutureWarning: YF.download() has changed argument auto_adjust default to True\n",
      "  data = yf.download(ticker_symbol, start=start_date, end=end_date)\n",
      "\n",
      "/tmp/ipykernel_32154/3385722862.py:21: FutureWarning: YF.download() has changed argument auto_adjust default to True\n",
      "  data = yf.download(ticker_symbol, start=start_date, end=end_date)\n"
     ]
    },
    {
     "name": "stdout",
     "output_type": "stream",
     "text": [
      "Saved TCS data to stock_data_daily/TCS_daily_data.csv\n",
      "Downloading data for BHARTIARTL...\n"
     ]
    },
    {
     "name": "stderr",
     "output_type": "stream",
     "text": [
      "[*********************100%***********************]  1 of 1 completed\n",
      "/tmp/ipykernel_32154/3385722862.py:21: FutureWarning: YF.download() has changed argument auto_adjust default to True\n",
      "  data = yf.download(ticker_symbol, start=start_date, end=end_date)\n",
      "\n",
      "/tmp/ipykernel_32154/3385722862.py:21: FutureWarning: YF.download() has changed argument auto_adjust default to True\n",
      "  data = yf.download(ticker_symbol, start=start_date, end=end_date)\n"
     ]
    },
    {
     "name": "stdout",
     "output_type": "stream",
     "text": [
      "Saved BHARTIARTL data to stock_data_daily/BHARTIARTL_daily_data.csv\n",
      "Downloading data for ICICIBANK...\n"
     ]
    },
    {
     "name": "stderr",
     "output_type": "stream",
     "text": [
      "[*********************100%***********************]  1 of 1 completed\n",
      "/tmp/ipykernel_32154/3385722862.py:21: FutureWarning: YF.download() has changed argument auto_adjust default to True\n",
      "  data = yf.download(ticker_symbol, start=start_date, end=end_date)\n",
      "\n",
      "/tmp/ipykernel_32154/3385722862.py:21: FutureWarning: YF.download() has changed argument auto_adjust default to True\n",
      "  data = yf.download(ticker_symbol, start=start_date, end=end_date)\n"
     ]
    },
    {
     "name": "stdout",
     "output_type": "stream",
     "text": [
      "Saved ICICIBANK data to stock_data_daily/ICICIBANK_daily_data.csv\n",
      "Downloading data for SBIN...\n"
     ]
    },
    {
     "name": "stderr",
     "output_type": "stream",
     "text": [
      "[*********************100%***********************]  1 of 1 completed\n",
      "/tmp/ipykernel_32154/3385722862.py:21: FutureWarning: YF.download() has changed argument auto_adjust default to True\n",
      "  data = yf.download(ticker_symbol, start=start_date, end=end_date)\n",
      "\n",
      "/tmp/ipykernel_32154/3385722862.py:21: FutureWarning: YF.download() has changed argument auto_adjust default to True\n",
      "  data = yf.download(ticker_symbol, start=start_date, end=end_date)\n"
     ]
    },
    {
     "name": "stdout",
     "output_type": "stream",
     "text": [
      "Saved SBIN data to stock_data_daily/SBIN_daily_data.csv\n",
      "Downloading data for INFY...\n"
     ]
    },
    {
     "name": "stderr",
     "output_type": "stream",
     "text": [
      "[*********************100%***********************]  1 of 1 completed\n",
      "/tmp/ipykernel_32154/3385722862.py:21: FutureWarning: YF.download() has changed argument auto_adjust default to True\n",
      "  data = yf.download(ticker_symbol, start=start_date, end=end_date)\n",
      "\n",
      "/tmp/ipykernel_32154/3385722862.py:21: FutureWarning: YF.download() has changed argument auto_adjust default to True\n",
      "  data = yf.download(ticker_symbol, start=start_date, end=end_date)\n"
     ]
    },
    {
     "name": "stdout",
     "output_type": "stream",
     "text": [
      "Saved INFY data to stock_data_daily/INFY_daily_data.csv\n",
      "Downloading data for KOTAKBANK...\n"
     ]
    },
    {
     "name": "stderr",
     "output_type": "stream",
     "text": [
      "[*********************100%***********************]  1 of 1 completed\n",
      "/tmp/ipykernel_32154/3385722862.py:21: FutureWarning: YF.download() has changed argument auto_adjust default to True\n",
      "  data = yf.download(ticker_symbol, start=start_date, end=end_date)\n",
      "\n",
      "/tmp/ipykernel_32154/3385722862.py:21: FutureWarning: YF.download() has changed argument auto_adjust default to True\n",
      "  data = yf.download(ticker_symbol, start=start_date, end=end_date)\n"
     ]
    },
    {
     "name": "stdout",
     "output_type": "stream",
     "text": [
      "Saved KOTAKBANK data to stock_data_daily/KOTAKBANK_daily_data.csv\n",
      "Downloading data for BAJFINANCE...\n"
     ]
    },
    {
     "name": "stderr",
     "output_type": "stream",
     "text": [
      "[*********************100%***********************]  1 of 1 completed\n",
      "/tmp/ipykernel_32154/3385722862.py:21: FutureWarning: YF.download() has changed argument auto_adjust default to True\n",
      "  data = yf.download(ticker_symbol, start=start_date, end=end_date)\n",
      "\n",
      "/tmp/ipykernel_32154/3385722862.py:21: FutureWarning: YF.download() has changed argument auto_adjust default to True\n",
      "  data = yf.download(ticker_symbol, start=start_date, end=end_date)\n"
     ]
    },
    {
     "name": "stdout",
     "output_type": "stream",
     "text": [
      "Saved BAJFINANCE data to stock_data_daily/BAJFINANCE_daily_data.csv\n",
      "Downloading data for HINDUNILVR...\n"
     ]
    },
    {
     "name": "stderr",
     "output_type": "stream",
     "text": [
      "[*********************100%***********************]  1 of 1 completed"
     ]
    },
    {
     "name": "stdout",
     "output_type": "stream",
     "text": [
      "Saved HINDUNILVR data to stock_data_daily/HINDUNILVR_daily_data.csv\n",
      "\n",
      "Download complete!\n"
     ]
    },
    {
     "name": "stderr",
     "output_type": "stream",
     "text": [
      "\n"
     ]
    }
   ],
   "source": [
    "import yfinance as yf\n",
    "import pandas as pd\n",
    "from datetime import datetime\n",
    "import os\n",
    "\n",
    "# Create directory for CSV files if it doesn't exist\n",
    "os.makedirs('stock_data_daily', exist_ok=True)\n",
    "\n",
    "# Define date range\n",
    "start_date = \"2022-01-01\"\n",
    "end_date = \"2025-01-01\"\n",
    "\n",
    "# Download and save data for each ticker\n",
    "for ticker in nifty_top_tickers:\n",
    "    try:\n",
    "        # Add .NS suffix for NSE stocks\n",
    "        ticker_symbol = f\"{ticker}.NS\"\n",
    "        \n",
    "        # Download data\n",
    "        print(f\"Downloading data for {ticker}...\")\n",
    "        data = yf.download(ticker_symbol, start=start_date, end=end_date)\n",
    "        \n",
    "        # Save to CSV\n",
    "        filename = f\"stock_data_daily/{ticker}_daily_data.csv\"\n",
    "        data.to_csv(filename)\n",
    "        print(f\"Saved {ticker} data to {filename}\")\n",
    "        \n",
    "    except Exception as e:\n",
    "        print(f\"Error downloading {ticker}: {e}\")\n",
    "\n",
    "print(\"\\nDownload complete!\")"
   ]
  }
 ],
 "metadata": {
  "kernelspec": {
   "display_name": "ml_env",
   "language": "python",
   "name": "python3"
  },
  "language_info": {
   "codemirror_mode": {
    "name": "ipython",
    "version": 3
   },
   "file_extension": ".py",
   "mimetype": "text/x-python",
   "name": "python",
   "nbconvert_exporter": "python",
   "pygments_lexer": "ipython3",
   "version": "3.12.9"
  }
 },
 "nbformat": 4,
 "nbformat_minor": 5
}
